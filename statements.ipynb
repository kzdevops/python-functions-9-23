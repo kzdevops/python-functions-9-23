{
  "nbformat": 4,
  "nbformat_minor": 0,
  "metadata": {
    "colab": {
      "name": "statements.ipynb",
      "provenance": [],
      "toc_visible": true,
      "include_colab_link": true
    },
    "kernelspec": {
      "name": "python3",
      "display_name": "Python 3"
    },
    "language_info": {
      "name": "python"
    }
  },
  "cells": [
    {
      "cell_type": "markdown",
      "metadata": {
        "id": "view-in-github",
        "colab_type": "text"
      },
      "source": [
        "<a href=\"https://colab.research.google.com/github/kzdevops/python-functions-9-23/blob/main/statements.ipynb\" target=\"_parent\"><img src=\"https://colab.research.google.com/assets/colab-badge.svg\" alt=\"Open In Colab\"/></a>"
      ]
    },
    {
      "cell_type": "markdown",
      "metadata": {
        "id": "dKN5wCIUy_Ea"
      },
      "source": [
        "# Lesson One:  Statements"
      ]
    },
    {
      "cell_type": "markdown",
      "metadata": {
        "id": "NIJdECMNy1uI"
      },
      "source": [
        "## Statements"
      ]
    },
    {
      "cell_type": "markdown",
      "metadata": {
        "id": "eSM9Al7z0s5T"
      },
      "source": [
        "### Hello World Examples"
      ]
    },
    {
      "cell_type": "code",
      "metadata": {
        "colab": {
          "base_uri": "https://localhost:8080/"
        },
        "id": "PcOmjgXPx9rn",
        "outputId": "e8f83b8d-9f93-42ac-f906-700c2a35fdc0"
      },
      "source": [
        "print(\"hello world\")"
      ],
      "execution_count": null,
      "outputs": [
        {
          "output_type": "stream",
          "name": "stdout",
          "text": [
            "hello world\n"
          ]
        }
      ]
    },
    {
      "cell_type": "code",
      "metadata": {
        "id": "EmeF2g6szNpC"
      },
      "source": [
        "var = \"Apple\""
      ],
      "execution_count": null,
      "outputs": []
    },
    {
      "cell_type": "code",
      "metadata": {
        "colab": {
          "base_uri": "https://localhost:8080/"
        },
        "id": "odABgW9SzrkS",
        "outputId": "df1b4662-7617-412a-b18f-7da9491e8f75"
      },
      "source": [
        "print(f\"This is a good fruit to eat in the winter {var}\")"
      ],
      "execution_count": null,
      "outputs": [
        {
          "output_type": "stream",
          "name": "stdout",
          "text": [
            "This is a good fruit to eat in the winter Apple\n"
          ]
        }
      ]
    },
    {
      "cell_type": "code",
      "metadata": {
        "id": "ZbQg0cUXz3nN"
      },
      "source": [
        "num = 100"
      ],
      "execution_count": null,
      "outputs": []
    },
    {
      "cell_type": "code",
      "metadata": {
        "colab": {
          "base_uri": "https://localhost:8080/"
        },
        "id": "PDW9-D7H0Crj",
        "outputId": "f8f4c551-e7e1-4ea7-d5df-659f804e573f"
      },
      "source": [
        "type(num)"
      ],
      "execution_count": null,
      "outputs": [
        {
          "output_type": "execute_result",
          "data": {
            "text/plain": [
              "int"
            ]
          },
          "metadata": {},
          "execution_count": 5
        }
      ]
    },
    {
      "cell_type": "code",
      "metadata": {
        "colab": {
          "base_uri": "https://localhost:8080/"
        },
        "id": "PMiwUHY50N_P",
        "outputId": "595947fd-000b-4bbc-ae76-432a8a186d57"
      },
      "source": [
        "print(f\"The amount of money I like in my wallet is {num} dollars\")"
      ],
      "execution_count": null,
      "outputs": [
        {
          "output_type": "stream",
          "name": "stdout",
          "text": [
            "The amount of money I like in my wallet is 100 dollars\n"
          ]
        }
      ]
    },
    {
      "cell_type": "code",
      "metadata": {
        "id": "_NI6NNWP0ep0"
      },
      "source": [
        ""
      ],
      "execution_count": null,
      "outputs": []
    },
    {
      "cell_type": "markdown",
      "metadata": {
        "id": "26vfOgSz1H3l"
      },
      "source": [
        "### Data Structures"
      ]
    },
    {
      "cell_type": "markdown",
      "metadata": {
        "id": "P6vr4dW61XEq"
      },
      "source": [
        "#### Variables"
      ]
    },
    {
      "cell_type": "code",
      "metadata": {
        "id": "ymLzOn0y1LqH"
      },
      "source": [
        "var = 1"
      ],
      "execution_count": null,
      "outputs": []
    },
    {
      "cell_type": "markdown",
      "metadata": {
        "id": "46m9VRUy1Ze1"
      },
      "source": [
        "#### Lists"
      ]
    },
    {
      "cell_type": "code",
      "metadata": {
        "id": "uQ4A_Ofo1Ol4"
      },
      "source": [
        "mylist = []"
      ],
      "execution_count": null,
      "outputs": []
    },
    {
      "cell_type": "code",
      "metadata": {
        "id": "xZXxeVC_1Sf-"
      },
      "source": [
        "mylist.append(1)"
      ],
      "execution_count": null,
      "outputs": []
    },
    {
      "cell_type": "code",
      "metadata": {
        "id": "Jk2TVtvA1tdO"
      },
      "source": [
        "mylist.append(1)"
      ],
      "execution_count": null,
      "outputs": []
    },
    {
      "cell_type": "code",
      "metadata": {
        "colab": {
          "base_uri": "https://localhost:8080/"
        },
        "id": "1CNhLTLC1yGU",
        "outputId": "9ffd3c87-2f20-40c7-cd71-a8dd57e6815e"
      },
      "source": [
        "# how many items\n",
        "len(mylist)"
      ],
      "execution_count": null,
      "outputs": [
        {
          "output_type": "execute_result",
          "data": {
            "text/plain": [
              "2"
            ]
          },
          "metadata": {},
          "execution_count": 12
        }
      ]
    },
    {
      "cell_type": "code",
      "metadata": {
        "colab": {
          "base_uri": "https://localhost:8080/"
        },
        "id": "38mN4dsd12CF",
        "outputId": "ebb28a21-d548-4bb4-eca9-7bce7d36ce83"
      },
      "source": [
        "print(mylist)"
      ],
      "execution_count": null,
      "outputs": [
        {
          "output_type": "stream",
          "name": "stdout",
          "text": [
            "[1, 1]\n"
          ]
        }
      ]
    },
    {
      "cell_type": "code",
      "metadata": {
        "id": "yY6bHsa116nn"
      },
      "source": [
        "# many things at once\n",
        "another_list = [1,2,3,4,5,6,7,8,9,10]\n",
        "\n"
      ],
      "execution_count": null,
      "outputs": []
    },
    {
      "cell_type": "code",
      "metadata": {
        "colab": {
          "base_uri": "https://localhost:8080/"
        },
        "id": "pRUsKWmt2N0v",
        "outputId": "558c5f1d-17ec-4245-9a0b-219e580b7cdf"
      },
      "source": [
        "len(another_list)"
      ],
      "execution_count": null,
      "outputs": [
        {
          "output_type": "execute_result",
          "data": {
            "text/plain": [
              "10"
            ]
          },
          "metadata": {},
          "execution_count": 15
        }
      ]
    },
    {
      "cell_type": "code",
      "metadata": {
        "colab": {
          "base_uri": "https://localhost:8080/"
        },
        "id": "kCKUno0_2QS3",
        "outputId": "0bb83418-344d-46b1-92db-b08735a8d0a4"
      },
      "source": [
        "# grab two items from the top\n",
        "another_list[0:2]"
      ],
      "execution_count": null,
      "outputs": [
        {
          "output_type": "execute_result",
          "data": {
            "text/plain": [
              "[1, 2]"
            ]
          },
          "metadata": {},
          "execution_count": 17
        }
      ]
    },
    {
      "cell_type": "code",
      "metadata": {
        "colab": {
          "base_uri": "https://localhost:8080/"
        },
        "id": "s-_uehDm2W6X",
        "outputId": "40e41f17-7dd4-435b-dec4-8c780f643138"
      },
      "source": [
        "# things you can do\n",
        "another_list[-2]    #just this item\n"
      ],
      "execution_count": null,
      "outputs": [
        {
          "output_type": "execute_result",
          "data": {
            "text/plain": [
              "[1, 2, 3, 4, 5, 6, 7, 8]"
            ]
          },
          "metadata": {},
          "execution_count": 25
        }
      ]
    },
    {
      "cell_type": "code",
      "metadata": {
        "colab": {
          "base_uri": "https://localhost:8080/"
        },
        "id": "aLfVLdH02ion",
        "outputId": "23d07281-1fef-49ba-c538-4e7e894997ed"
      },
      "source": [
        "# everything but last two\n",
        "another_list[:-2]   "
      ],
      "execution_count": null,
      "outputs": [
        {
          "output_type": "execute_result",
          "data": {
            "text/plain": [
              "[1, 2, 3, 4, 5, 6, 7, 8]"
            ]
          },
          "metadata": {},
          "execution_count": 27
        }
      ]
    },
    {
      "cell_type": "code",
      "metadata": {
        "colab": {
          "base_uri": "https://localhost:8080/"
        },
        "id": "SViTKqyg28Nc",
        "outputId": "0d986cce-d958-4140-a889-a060ddd76495"
      },
      "source": [
        "# only last two\n",
        "another_list[-2:]   "
      ],
      "execution_count": null,
      "outputs": [
        {
          "output_type": "execute_result",
          "data": {
            "text/plain": [
              "[9, 10]"
            ]
          },
          "metadata": {},
          "execution_count": 28
        }
      ]
    },
    {
      "cell_type": "code",
      "metadata": {
        "id": "dJsSWYx93CsS"
      },
      "source": [
        ""
      ],
      "execution_count": null,
      "outputs": []
    },
    {
      "cell_type": "markdown",
      "metadata": {
        "id": "VEpFYV-A3Q-O"
      },
      "source": [
        "#### Dictionary"
      ]
    },
    {
      "cell_type": "code",
      "metadata": {
        "id": "xJyzx0Zm3Txy"
      },
      "source": [
        "mydict = {}"
      ],
      "execution_count": null,
      "outputs": []
    },
    {
      "cell_type": "code",
      "metadata": {
        "id": "bk6NyV843dIU"
      },
      "source": [
        "mydict[\"One\"] = 1"
      ],
      "execution_count": null,
      "outputs": []
    },
    {
      "cell_type": "code",
      "metadata": {
        "colab": {
          "base_uri": "https://localhost:8080/"
        },
        "id": "KjpPReE83oZx",
        "outputId": "30fe450b-9e75-4fa7-c319-1d74fcd9f998"
      },
      "source": [
        "mydict.keys() #left side"
      ],
      "execution_count": null,
      "outputs": [
        {
          "output_type": "execute_result",
          "data": {
            "text/plain": [
              "dict_keys(['One'])"
            ]
          },
          "metadata": {},
          "execution_count": 33
        }
      ]
    },
    {
      "cell_type": "code",
      "metadata": {
        "colab": {
          "base_uri": "https://localhost:8080/"
        },
        "id": "8ODs8qQj3sEQ",
        "outputId": "7a2b2b24-f55e-4045-b474-494a0a47f7a8"
      },
      "source": [
        "mydict.values() #right side"
      ],
      "execution_count": null,
      "outputs": [
        {
          "output_type": "execute_result",
          "data": {
            "text/plain": [
              "dict_values([1])"
            ]
          },
          "metadata": {},
          "execution_count": 34
        }
      ]
    },
    {
      "cell_type": "code",
      "metadata": {
        "colab": {
          "base_uri": "https://localhost:8080/"
        },
        "id": "c5o3yt9c31hm",
        "outputId": "19b8b5eb-a577-48bd-8f59-2364801c8fa5"
      },
      "source": [
        "mydict.items() # both key and the value"
      ],
      "execution_count": null,
      "outputs": [
        {
          "output_type": "execute_result",
          "data": {
            "text/plain": [
              "dict_items([('One', 1)])"
            ]
          },
          "metadata": {},
          "execution_count": 36
        }
      ]
    },
    {
      "cell_type": "code",
      "metadata": {
        "id": "kwYAe_qr38Hs"
      },
      "source": [
        "newdict = {\n",
        "    \"one\" : 1,\n",
        "    \"two\" : 2,\n",
        "    \"three\" : 3\n",
        "}"
      ],
      "execution_count": null,
      "outputs": []
    },
    {
      "cell_type": "code",
      "metadata": {
        "colab": {
          "base_uri": "https://localhost:8080/"
        },
        "id": "zeQYcVyk4JDc",
        "outputId": "f0c8456f-98f7-44c3-9992-1c86b39de9af"
      },
      "source": [
        "newdict.items()"
      ],
      "execution_count": null,
      "outputs": [
        {
          "output_type": "execute_result",
          "data": {
            "text/plain": [
              "dict_items([('one', 1), ('two', 2), ('three', 3)])"
            ]
          },
          "metadata": {},
          "execution_count": 39
        }
      ]
    },
    {
      "cell_type": "code",
      "metadata": {
        "colab": {
          "base_uri": "https://localhost:8080/"
        },
        "id": "6phKOyC14T0S",
        "outputId": "429fe57f-aa95-47de-cff9-64e8ea4b2373"
      },
      "source": [
        "newdict.keys()\n"
      ],
      "execution_count": null,
      "outputs": [
        {
          "output_type": "execute_result",
          "data": {
            "text/plain": [
              "dict_keys(['one', 'two', 'three'])"
            ]
          },
          "metadata": {},
          "execution_count": 40
        }
      ]
    },
    {
      "cell_type": "code",
      "metadata": {
        "id": "VHCApTc54WCl"
      },
      "source": [
        "another_dict = {\n",
        "    \"aws_lambda\" : [1,2,3,4,5],\n",
        "    \"aws_s3\" : [6,7,8]\n",
        "}"
      ],
      "execution_count": null,
      "outputs": []
    },
    {
      "cell_type": "code",
      "metadata": {
        "colab": {
          "base_uri": "https://localhost:8080/"
        },
        "id": "jKpdJ4Yz4pBy",
        "outputId": "8327349a-1d96-4099-d2c2-fbf4fe1859d9"
      },
      "source": [
        "another_dict.keys()"
      ],
      "execution_count": null,
      "outputs": [
        {
          "output_type": "execute_result",
          "data": {
            "text/plain": [
              "dict_keys(['aws_lambda', 'aws_s3'])"
            ]
          },
          "metadata": {},
          "execution_count": 43
        }
      ]
    },
    {
      "cell_type": "code",
      "metadata": {
        "colab": {
          "base_uri": "https://localhost:8080/"
        },
        "id": "0X7tJt9w4weY",
        "outputId": "59ebfcd6-3106-41f7-ca34-aa6b411d1b80"
      },
      "source": [
        "another_dict[\"aws_s3\"]"
      ],
      "execution_count": null,
      "outputs": [
        {
          "output_type": "execute_result",
          "data": {
            "text/plain": [
              "[6, 7, 8]"
            ]
          },
          "metadata": {},
          "execution_count": 45
        }
      ]
    },
    {
      "cell_type": "code",
      "metadata": {
        "id": "i5S7N3v743lW"
      },
      "source": [
        "# JSON payloads get converted to Python Dictionaries"
      ],
      "execution_count": null,
      "outputs": []
    },
    {
      "cell_type": "code",
      "metadata": {
        "id": "KIkIU8ls5A0T"
      },
      "source": [
        ""
      ],
      "execution_count": null,
      "outputs": []
    },
    {
      "cell_type": "markdown",
      "metadata": {
        "id": "4ubfHxxx5Ltd"
      },
      "source": [
        "### Control Structures"
      ]
    },
    {
      "cell_type": "markdown",
      "metadata": {
        "id": "xIZdUOEi5Su5"
      },
      "source": [
        "##### For Loop"
      ]
    },
    {
      "cell_type": "code",
      "metadata": {
        "colab": {
          "base_uri": "https://localhost:8080/"
        },
        "id": "xhsBke1l5Nww",
        "outputId": "504b2e77-38ce-4ed3-c7db-7518afda0c5e"
      },
      "source": [
        "fruits = [\"apple\", \"pear\", \"avacado\"]\n",
        "for fruit in fruits:\n",
        "    print(f\"A fruit that I enjoy often is a {fruit}\")"
      ],
      "execution_count": null,
      "outputs": [
        {
          "output_type": "stream",
          "name": "stdout",
          "text": [
            "A fruit that I enjoy often is a apple\n",
            "A fruit that I enjoy often is a pear\n",
            "A fruit that I enjoy often is a avacado\n"
          ]
        }
      ]
    },
    {
      "cell_type": "code",
      "metadata": {
        "colab": {
          "base_uri": "https://localhost:8080/"
        },
        "id": "xrkeWLDF5qbL",
        "outputId": "dc02da9d-96e2-40a6-a592-ee54ad4f7970"
      },
      "source": [
        "for fruit in fruits:\n",
        "    if fruit == \"apple\":\n",
        "        print(f\"I love this fruit {fruit}\")\n",
        "        break"
      ],
      "execution_count": null,
      "outputs": [
        {
          "output_type": "stream",
          "name": "stdout",
          "text": [
            "I love this fruit apple\n"
          ]
        }
      ]
    },
    {
      "cell_type": "code",
      "metadata": {
        "id": "BrT4ryDa59xd"
      },
      "source": [
        ""
      ],
      "execution_count": null,
      "outputs": []
    }
  ]
}